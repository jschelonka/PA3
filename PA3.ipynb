{
 "cells": [
  {
   "cell_type": "code",
   "execution_count": 38,
   "id": "386670ec",
   "metadata": {},
   "outputs": [
    {
     "name": "stdout",
     "output_type": "stream",
     "text": [
      "Enter the length of side A: 12\n",
      "Enter the length of side B: 16\n",
      "Enter the length of side C: 21\n",
      "The area of the triangle is approximately 95.4512310030625 square units.\n",
      "The perimeter of a triangle is 49 linear units.\n"
     ]
    }
   ],
   "source": [
    "from math import sqrt\n",
    "\n",
    "a = int(input(\"Enter the length of side A: \"))\n",
    "b = int(input(\"Enter the length of side B: \"))\n",
    "c = int(input(\"Enter the length of side C: \"))\n",
    "\n",
    "def calcArea(A, B, C):\n",
    "    s = (A + B + C)/2\n",
    "    area = math.sqrt(s*(s-A)*(s-B)*(s-C))\n",
    "    print(f\"The area of the triangle is approximately {area} square units.\")\n",
    "calcArea(a,b,c)\n",
    "\n",
    "def calcPerimeter(a, b, c):\n",
    "    perimeter = a + b + c\n",
    "    print(f\"The perimeter of a triangle is {perimeter} linear units.\")\n",
    "calcPerimeter(a, b, c)"
   ]
  },
  {
   "cell_type": "code",
   "execution_count": 41,
   "id": "edbb547c",
   "metadata": {},
   "outputs": [
    {
     "name": "stdout",
     "output_type": "stream",
     "text": [
      "Enter your guess: 1\n",
      "Too low! Guess again\n",
      "Enter your guess: 2\n",
      "Correct!\n"
     ]
    }
   ],
   "source": [
    "from random import randrange\n",
    "randomNumber = random.randrange(1, 1000)\n",
    "guess = None\n",
    "\n",
    "def evaluateGuess(x, guess):\n",
    "    while x != guess:\n",
    "        guess = int(input(\"Enter your guess: \"))\n",
    "        if x == guess:\n",
    "            print(\"Correct!\")\n",
    "        elif x > guess:\n",
    "            print(\"Too low! Guess again\")\n",
    "        else: \n",
    "            print(\"Too high! Guess again\")\n",
    "evaluateGuess(randomNumber, guess)"
   ]
  },
  {
   "cell_type": "code",
   "execution_count": 69,
   "id": "e3e04f08",
   "metadata": {},
   "outputs": [
    {
     "data": {
      "text/plain": [
       "'The mean temperature for the past 6 days is 30.833333333333332 degrees F.'"
      ]
     },
     "execution_count": 69,
     "metadata": {},
     "output_type": "execute_result"
    }
   ],
   "source": [
    "from statistics import mean as mean\n",
    "\n",
    "def meanTemp(*temps):\n",
    "    tempMean = mean(temps)\n",
    "    return f\"The mean temperature for the past {len(temps)} days is {tempMean} degrees F.\"\n",
    "meanTemp(30,32,12,45,32,34)"
   ]
  },
  {
   "cell_type": "markdown",
   "id": "cb384e50",
   "metadata": {},
   "source": [
    "# PA3, Jacob Schelonka, version 1.0, CS-150-02"
   ]
  },
  {
   "cell_type": "code",
   "execution_count": null,
   "id": "5775c896",
   "metadata": {},
   "outputs": [],
   "source": []
  }
 ],
 "metadata": {
  "kernelspec": {
   "display_name": "Python 3",
   "language": "python",
   "name": "python3"
  },
  "language_info": {
   "codemirror_mode": {
    "name": "ipython",
    "version": 3
   },
   "file_extension": ".py",
   "mimetype": "text/x-python",
   "name": "python",
   "nbconvert_exporter": "python",
   "pygments_lexer": "ipython3",
   "version": "3.8.8"
  }
 },
 "nbformat": 4,
 "nbformat_minor": 5
}
